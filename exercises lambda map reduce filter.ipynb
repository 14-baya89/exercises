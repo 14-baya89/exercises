{
 "cells": [
  {
   "cell_type": "code",
   "execution_count": 1,
   "metadata": {},
   "outputs": [
    {
     "name": "stdout",
     "output_type": "stream",
     "text": [
      "[('34587', 163.8), ('98762', 284.0), ('77226', 108.85000000000001), ('88112', 84.97)]\n"
     ]
    }
   ],
   "source": [
    "orders = [ [\"34587\", \"Learning Python, Mark Lutz\", 4, 40.95], \n",
    "           [\"98762\", \"Programming Python, Mark Lutz\", 5, 56.80], \n",
    "           [\"77226\", \"Head First Python, Paul Barry\", 3,32.95],\n",
    "           [\"88112\", \"Einführung in Python3, Bernd Klein\", 3, 24.99]]\n",
    "min_order = 100\n",
    "invoice_totals = list(map(lambda x: x if x[1] >= min_order else (x[0], x[1] + 10), \n",
    "                  map(lambda x: (x[0],x[2] * x[3]), orders)))\n",
    "print(invoice_totals)"
   ]
  },
  {
   "cell_type": "code",
   "execution_count": 1,
   "metadata": {},
   "outputs": [
    {
     "name": "stdout",
     "output_type": "stream",
     "text": [
      "[[1, 678.3299999999999], [2, 494.46000000000004], [3, 364.79999999999995], [4, 492.57]]\n"
     ]
    }
   ],
   "source": [
    "from functools import reduce\n",
    "orders = [ [1, (\"5464\", 4, 9.99), (\"8274\",18,12.99), (\"9744\", 9, 44.95)], \n",
    "           [2, (\"5464\", 9, 9.99), (\"9744\", 9, 44.95)],\n",
    "           [3, (\"5464\", 9, 9.99), (\"88112\", 11, 24.99)],\n",
    "           [4, (\"8732\", 7, 11.99), (\"7733\",11,18.99), (\"88112\", 5, 39.95)] ]\n",
    "min_order = 100\n",
    "invoice_totals = list(map(lambda x: [x[0]] + list(map(lambda y: y[1]*y[2], x[1:])), orders))\n",
    "invoice_totals = list(map(lambda x: [x[0]] + [reduce(lambda a,b: a + b, x[1:])], invoice_totals))\n",
    "invoice_totals = list(map(lambda x: x if x[1] >= min_order else (x[0], x[1] + 10), invoice_totals))\n",
    "print (invoice_totals)"
   ]
  },
  {
   "cell_type": "code",
   "execution_count": 1,
   "metadata": {},
   "outputs": [
    {
     "name": "stdout",
     "output_type": "stream",
     "text": [
      "Cities:, Tokyo, Mexico City, Dhaka, Buenos Aires, Cairo, Beijing, Manila, Moscow\n"
     ]
    }
   ],
   "source": [
    "from functools import reduce\n",
    "#define data\n",
    "data=[['Tokyo', 35676000.0, 'primary'], \n",
    "      ['New York', 19354922.0, 'nan'], \n",
    "      ['Mexico City', 19028000.0, 'primary'], \n",
    "      ['Mumbai', 18978000.0, 'admin'], \n",
    "      ['São Paulo', 18845000.0, 'admin'], \n",
    "      ['Delhi', 15926000.0, 'admin'],\n",
    "      ['Shanghai', 14987000.0, 'admin'], \n",
    "      ['Kolkata', 14787000.0, 'admin'], \n",
    "      ['Los Angeles', 12815475.0, 'nan'], \n",
    "      ['Dhaka', 12797394.0, 'primary'], \n",
    "      ['Buenos Aires', 12795000.0, 'primary'],\n",
    "      ['Karachi', 12130000.0, 'admin'], \n",
    "      ['Cairo', 11893000.0, 'primary'], \n",
    "      ['Rio de Janeiro', 11748000.0, 'admin'], \n",
    "      ['Ōsaka', 11294000.0, 'admin'], ['Beijing', 11106000.0, 'primary'], \n",
    "      ['Manila', 11100000.0, 'primary'], ['Moscow', 10452000.0, 'primary'], \n",
    "      ['Istanbul', 10061000.0, 'admin'], ['Paris', 9904000.0, 'primary']]\n",
    "\n",
    "map_obj = filter(lambda x: x[2]=='primary' and x[1]>10000000,data)\n",
    "map_obj = map(lambda x: x[0], map_obj)\n",
    "map_obj = reduce(lambda x,y: x+\", \"+y, map_obj, 'Cities:')\n",
    "print(map_obj)"
   ]
  },
  {
   "cell_type": "code",
   "execution_count": null,
   "metadata": {},
   "outputs": [],
   "source": []
  },
  {
   "cell_type": "code",
   "execution_count": 3,
   "metadata": {},
   "outputs": [
    {
     "name": "stdout",
     "output_type": "stream",
     "text": [
      "[('34587', 163.8), ('98762', 284.0), ('77226', 108.85000000000001), ('88112', 84.97)]\n"
     ]
    }
   ],
   "source": [
    "orders = [ [\"34587\", \"Learning Python, Mark Lutz\", 4, 40.95], \n",
    "           [\"98762\", \"Programming Python, Mark Lutz\", 5, 56.80], \n",
    "           [\"77226\", \"Head First Python, Paul Barry\", 3,32.95],\n",
    "           [\"88112\", \"Einführung in Python3, Bernd Klein\", 3, 24.99]]\n",
    "min_order=100\n",
    "facture_totale= list(map(lambda x: x if x[1]>=min_order else (x[0], x[1]+10), map(lambda x:(x[0],x[2]*x[3]), orders)))\n",
    "print(facture_totale)"
   ]
  },
  {
   "cell_type": "code",
   "execution_count": 2,
   "metadata": {},
   "outputs": [
    {
     "name": "stdout",
     "output_type": "stream",
     "text": [
      "[(1, 688.3299999999999), (2, 504.46000000000004), (3, 374.79999999999995), (4, 502.57)]\n"
     ]
    }
   ],
   "source": [
    "from functools import reduce\n",
    "orders = [ [1, (\"5464\", 4, 9.99), (\"8274\",18,12.99), (\"9744\", 9, 44.95)], \n",
    "           [2, (\"5464\", 9, 9.99), (\"9744\", 9, 44.95)],\n",
    "           [3, (\"5464\", 9, 9.99), (\"88112\", 11, 24.99)],\n",
    "           [4, (\"8732\", 7, 11.99), (\"7733\",11,18.99), (\"88112\", 5, 39.95)] ]\n",
    "min_order=100\n",
    "facture_totale=list(map(lambda x: [x[0]]+ list(map(lambda y: y[1]*y[2], x[1:])),orders))\n",
    "facture_totale=list(map(lambda x: [x[0]] + [reduce(lambda a,b : a+b,x[1:])], facture_totale))\n",
    "facture_totale= list(map(lambda x: x if x[0]>=100 else (x[0], x[1]+10), facture_totale))\n",
    "print(facture_totale)"
   ]
  },
  {
   "cell_type": "code",
   "execution_count": null,
   "metadata": {},
   "outputs": [],
   "source": []
  },
  {
   "cell_type": "code",
   "execution_count": 18,
   "metadata": {},
   "outputs": [
    {
     "name": "stdout",
     "output_type": "stream",
     "text": [
      "array('i', [5, 6, 7, 8])\n"
     ]
    }
   ],
   "source": [
    "import array as arr\n",
    "vals = arr.array('i', [5,6,7,8])# i is the typeCode for int\n",
    "print(vals)         # print array stored in variable vals"
   ]
  },
  {
   "cell_type": "code",
   "execution_count": 25,
   "metadata": {},
   "outputs": [
    {
     "name": "stdout",
     "output_type": "stream",
     "text": [
      "The length of the array is :  4\n",
      "The address and the size of the array is :  (2110581953232, 4)\n",
      "Original array : 3.4  6.5  7.6  8.9  Reversed array : 8.9 7.6 6.5 3.4 "
     ]
    }
   ],
   "source": [
    "# Imported the array module\n",
    "import array as arr  \n",
    "\n",
    "# Created a float array\n",
    "vals_float = arr.array('d', [3.4, 6.5, 7.6, 8.9]) \n",
    "\n",
    "# to count the no. of elements in array\n",
    "print(\"The length of the array is : \", end=\" \")\n",
    "print(len(vals_float))      \n",
    "             \n",
    "print(\"The address and the size of the array is : \", end=\" \")\n",
    "\n",
    " # to calculate the size and address\n",
    "print(vals_float.buffer_info())        \n",
    "\n",
    "print(\"Original array :\", end=\" \")\n",
    "\n",
    "# used the len() to calculate the length\n",
    "for i in range(len(vals_float)):     \n",
    "    print(vals_float[i], end=\"  \")\n",
    "\n",
    "# function to reverse the array elements\n",
    "vals_float.reverse()                 \n",
    "print(\"Reversed array :\", end =\" \")\n",
    "for i in range(len(vals_float)):\n",
    "    print(vals_float[i], end =\" \")\n"
   ]
  },
  {
   "cell_type": "code",
   "execution_count": 26,
   "metadata": {},
   "outputs": [
    {
     "name": "stdout",
     "output_type": "stream",
     "text": [
      "298\n",
      "30\n"
     ]
    }
   ],
   "source": [
    "stock_price=[298,305,30,301,292]\n",
    "print (stock_price[0])#stock price on day 1\n",
    "print (stock_price[2])# stock price on day 2"
   ]
  },
  {
   "cell_type": "code",
   "execution_count": 27,
   "metadata": {},
   "outputs": [
    {
     "name": "stdout",
     "output_type": "stream",
     "text": [
      "298\n",
      "292\n"
     ]
    }
   ],
   "source": [
    "stock_price ={\n",
    "    'november 14': 298,\n",
    "    'november 15': 305,\n",
    "    'november 16': 300,\n",
    "    'november 17': 292,\n",
    "}\n",
    "print(stock_price['november 14'])\n",
    "print(stock_price['november 17'])"
   ]
  },
  {
   "cell_type": "code",
   "execution_count": null,
   "metadata": {},
   "outputs": [],
   "source": []
  },
  {
   "cell_type": "code",
   "execution_count": null,
   "metadata": {},
   "outputs": [],
   "source": []
  }
 ],
 "metadata": {
  "kernelspec": {
   "display_name": "Python 3 (ipykernel)",
   "language": "python",
   "name": "python3"
  },
  "language_info": {
   "codemirror_mode": {
    "name": "ipython",
    "version": 3
   },
   "file_extension": ".py",
   "mimetype": "text/x-python",
   "name": "python",
   "nbconvert_exporter": "python",
   "pygments_lexer": "ipython3",
   "version": "3.8.12"
  }
 },
 "nbformat": 4,
 "nbformat_minor": 4
}
